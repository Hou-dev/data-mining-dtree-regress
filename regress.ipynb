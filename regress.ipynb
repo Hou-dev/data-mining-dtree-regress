{
 "cells": [
  {
   "cell_type": "code",
   "execution_count": 1,
   "metadata": {},
   "outputs": [],
   "source": [
    "# imports\n",
    "import pandas as pd\n",
    "import numpy as np\n",
    "from sklearn import preprocessing\n",
    "from scipy.stats import zscore\n",
    "from sklearn.model_selection import train_test_split\n",
    "from sklearn.linear_model import LinearRegression\n",
    "import statsmodels.regression.linear_model as sm\n",
    "from sklearn.cluster import KMeans\n",
    "import matplotlib.pyplot as plt"
   ]
  },
  {
   "cell_type": "code",
   "execution_count": 2,
   "metadata": {},
   "outputs": [
    {
     "data": {
      "text/html": [
       "<div>\n",
       "<style scoped>\n",
       "    .dataframe tbody tr th:only-of-type {\n",
       "        vertical-align: middle;\n",
       "    }\n",
       "\n",
       "    .dataframe tbody tr th {\n",
       "        vertical-align: top;\n",
       "    }\n",
       "\n",
       "    .dataframe thead th {\n",
       "        text-align: right;\n",
       "    }\n",
       "</style>\n",
       "<table border=\"1\" class=\"dataframe\">\n",
       "  <thead>\n",
       "    <tr style=\"text-align: right;\">\n",
       "      <th></th>\n",
       "      <th>fixed acidity</th>\n",
       "      <th>volatile acidity</th>\n",
       "      <th>citric acid</th>\n",
       "      <th>residual sugar</th>\n",
       "      <th>chlorides</th>\n",
       "      <th>free sulfur dioxide</th>\n",
       "      <th>total sulfur dioxide</th>\n",
       "      <th>density</th>\n",
       "      <th>pH</th>\n",
       "      <th>sulphates</th>\n",
       "      <th>alcohol</th>\n",
       "      <th>quality</th>\n",
       "    </tr>\n",
       "  </thead>\n",
       "  <tbody>\n",
       "    <tr>\n",
       "      <th>0</th>\n",
       "      <td>7.0</td>\n",
       "      <td>0.27</td>\n",
       "      <td>0.36</td>\n",
       "      <td>20.7</td>\n",
       "      <td>0.045</td>\n",
       "      <td>45.0</td>\n",
       "      <td>170.0</td>\n",
       "      <td>1.0010</td>\n",
       "      <td>3.00</td>\n",
       "      <td>0.45</td>\n",
       "      <td>8.8</td>\n",
       "      <td>6</td>\n",
       "    </tr>\n",
       "    <tr>\n",
       "      <th>1</th>\n",
       "      <td>6.3</td>\n",
       "      <td>0.30</td>\n",
       "      <td>0.34</td>\n",
       "      <td>1.6</td>\n",
       "      <td>0.049</td>\n",
       "      <td>14.0</td>\n",
       "      <td>132.0</td>\n",
       "      <td>0.9940</td>\n",
       "      <td>3.30</td>\n",
       "      <td>0.49</td>\n",
       "      <td>9.5</td>\n",
       "      <td>6</td>\n",
       "    </tr>\n",
       "    <tr>\n",
       "      <th>2</th>\n",
       "      <td>8.1</td>\n",
       "      <td>0.28</td>\n",
       "      <td>0.40</td>\n",
       "      <td>6.9</td>\n",
       "      <td>0.050</td>\n",
       "      <td>30.0</td>\n",
       "      <td>97.0</td>\n",
       "      <td>0.9951</td>\n",
       "      <td>3.26</td>\n",
       "      <td>0.44</td>\n",
       "      <td>10.1</td>\n",
       "      <td>6</td>\n",
       "    </tr>\n",
       "    <tr>\n",
       "      <th>3</th>\n",
       "      <td>7.2</td>\n",
       "      <td>0.23</td>\n",
       "      <td>0.32</td>\n",
       "      <td>8.5</td>\n",
       "      <td>0.058</td>\n",
       "      <td>47.0</td>\n",
       "      <td>186.0</td>\n",
       "      <td>0.9956</td>\n",
       "      <td>3.19</td>\n",
       "      <td>0.40</td>\n",
       "      <td>9.9</td>\n",
       "      <td>6</td>\n",
       "    </tr>\n",
       "    <tr>\n",
       "      <th>4</th>\n",
       "      <td>7.2</td>\n",
       "      <td>0.23</td>\n",
       "      <td>0.32</td>\n",
       "      <td>8.5</td>\n",
       "      <td>0.058</td>\n",
       "      <td>47.0</td>\n",
       "      <td>186.0</td>\n",
       "      <td>0.9956</td>\n",
       "      <td>3.19</td>\n",
       "      <td>0.40</td>\n",
       "      <td>9.9</td>\n",
       "      <td>6</td>\n",
       "    </tr>\n",
       "  </tbody>\n",
       "</table>\n",
       "</div>"
      ],
      "text/plain": [
       "   fixed acidity  volatile acidity  citric acid  residual sugar  chlorides  \\\n",
       "0            7.0              0.27         0.36            20.7      0.045   \n",
       "1            6.3              0.30         0.34             1.6      0.049   \n",
       "2            8.1              0.28         0.40             6.9      0.050   \n",
       "3            7.2              0.23         0.32             8.5      0.058   \n",
       "4            7.2              0.23         0.32             8.5      0.058   \n",
       "\n",
       "   free sulfur dioxide  total sulfur dioxide  density    pH  sulphates  \\\n",
       "0                 45.0                 170.0   1.0010  3.00       0.45   \n",
       "1                 14.0                 132.0   0.9940  3.30       0.49   \n",
       "2                 30.0                  97.0   0.9951  3.26       0.44   \n",
       "3                 47.0                 186.0   0.9956  3.19       0.40   \n",
       "4                 47.0                 186.0   0.9956  3.19       0.40   \n",
       "\n",
       "   alcohol  quality  \n",
       "0      8.8        6  \n",
       "1      9.5        6  \n",
       "2     10.1        6  \n",
       "3      9.9        6  \n",
       "4      9.9        6  "
      ]
     },
     "execution_count": 2,
     "metadata": {},
     "output_type": "execute_result"
    }
   ],
   "source": [
    "# reading the csv file\n",
    "data = pd.read_csv('winequality-white.csv',sep=';')\n",
    "data2 = pd.read_csv('Complex9_GN32.csv')\n",
    "data.head()"
   ]
  },
  {
   "cell_type": "code",
   "execution_count": 3,
   "metadata": {},
   "outputs": [],
   "source": [
    "# set the names for dataframe\n",
    "x = data[['fixed acidity', 'volatile acidity','citric acid','residual sugar','chlorides','free sulfur dioxide',      \n",
    "        'total sulfur dioxide','density','pH','sulphates','alcohol']]\n",
    "#find the zscore and normalize\n",
    "x.apply(zscore)\n",
    "min_max_scaler = preprocessing.MinMaxScaler()\n",
    "x_scaled = min_max_scaler.fit_transform(x)\n",
    "dataset = pd.DataFrame(x_scaled)\n",
    "# Leaving the qualiity as is\n",
    "dataset['quality'] = data['quality']\n",
    "dataset.rename(columns={'0':'fixed acidity', '1':'volatile acidity','2':'citric acid','3':'residual sugar',\n",
    "                        '4':'chlorides','5':'free sulfur dioxide','6':'total sulfur dioxide',\n",
    "                        '7':'density','8':'pH','9':'sulphates','10':'alcohol'})\n",
    "# making a new class and change the name according to the value of quality\n",
    "dataset.loc[dataset['quality'] == 8, 'class'] = 'A'\n",
    "dataset.loc[dataset['quality'] == 9, 'class'] = 'A'\n",
    "dataset.loc[dataset['quality'] == 8, 'class'] = 'A'\n",
    "dataset.loc[dataset['quality'] == 7, 'class'] = 'B'\n",
    "dataset.loc[dataset['quality'] == 6, 'class'] = 'C'\n",
    "dataset.loc[dataset['quality'] == 5, 'class'] = 'D'\n",
    "dataset.loc[dataset['quality'] == 4, 'class'] = 'E'\n"
   ]
  },
  {
   "cell_type": "code",
   "execution_count": 15,
   "metadata": {},
   "outputs": [],
   "source": [
    "# making the arrays to test functons\n",
    "a = np.array([0,1,1,1,1,2,2,3]).reshape(-1,1)\n",
    "b = np.array(['A','A','A','E','E','D','D','C'])\n",
    "\n",
    "import scipy.stats\n",
    "# finding entropy using scipy\n",
    "def ent(data):\n",
    "    data = data.value_counts()          \n",
    "    entropy = scipy.stats.entropy(data) \n",
    "    return entropy"
   ]
  },
  {
   "cell_type": "code",
   "execution_count": 45,
   "metadata": {},
   "outputs": [
    {
     "name": "stdout",
     "output_type": "stream",
     "text": [
      "0.6365141682948128 0.25\n"
     ]
    }
   ],
   "source": [
    "def entropy(a,b):\n",
    "    \n",
    "    out1 = len(a)\n",
    "    # finding z score and classify outliers\n",
    "    z= np.abs(zscore(a))\n",
    "    a = a[(z < 1).all(axis=1)]\n",
    "    out2 = len(a)\n",
    "    # kmeans clustering on the cleaned data\n",
    "    kmeans = KMeans(n_clusters=2, random_state=0).fit(a)\n",
    "    pred = kmeans.predict(a)\n",
    "    s1 = pd.Series(pred)\n",
    "    # finding the percentage outlier\n",
    "    pcentout = 1 - (out2/out1)\n",
    "    print(ent(s1),pcentout)\n",
    "    \n",
    "entropy(a,b)"
   ]
  },
  {
   "cell_type": "code",
   "execution_count": null,
   "metadata": {},
   "outputs": [],
   "source": [
    "def ordinal_variation(a,b):\n",
    "    return 0"
   ]
  },
  {
   "cell_type": "code",
   "execution_count": 80,
   "metadata": {},
   "outputs": [
    {
     "name": "stdout",
     "output_type": "stream",
     "text": [
      "No Outlier in KMeans\n"
     ]
    },
    {
     "data": {
      "text/plain": [
       "(1.3125, None)"
      ]
     },
     "execution_count": 80,
     "metadata": {},
     "output_type": "execute_result"
    }
   ],
   "source": [
    "def variance(a,b):\n",
    "    # kmeans clustering\n",
    "    kmean = KMeans(n_clusters=3,random_state=0).fit(a)\n",
    "    pred = kmean.predict(a)\n",
    "    # find the number of elements per cluster\n",
    "    count = np.bincount(pred)\n",
    "    var = 0\n",
    "    variance = 0\n",
    "    for cell in count:\n",
    "        a = count\n",
    "        b = len(pred)\n",
    "        # finding the variance\n",
    "        var += (np.var(pred))*(a/b)\n",
    "    \n",
    "    for cell in var:\n",
    "        # summing array to find total variance\n",
    "        variance = sum(var)\n",
    "    return variance,print('No Outlier in KMeans')\n",
    "variance(a,b)"
   ]
  },
  {
   "cell_type": "code",
   "execution_count": 50,
   "metadata": {},
   "outputs": [
    {
     "data": {
      "text/plain": [
       "array([2.00447929, 2.00447929, 2.00447929, 2.00447929, 1.50335947,\n",
       "       1.50335947, 0.50111982, 0.        , 0.        , 0.        ,\n",
       "       0.50111982, 0.50111982, 2.50559911, 0.        , 0.        ,\n",
       "       0.50111982, 0.50111982, 2.50559911, 0.        , 0.50111982,\n",
       "       0.50111982, 2.50559911, 0.50111982, 0.50111982, 2.50559911,\n",
       "       0.        , 2.00447929, 2.00447929])"
      ]
     },
     "execution_count": 50,
     "metadata": {},
     "output_type": "execute_result"
    }
   ],
   "source": [
    "def mdist(d):\n",
    "    from scipy.spatial.distance import pdist\n",
    "    # finding the zscore\n",
    "    zs= np.abs(zscore(d))\n",
    "    # find the manhatan distance using scipy\n",
    "    zs = pdist(zs,'seuclidean',V=None)\n",
    "    return zs\n",
    "mdist(a)"
   ]
  },
  {
   "cell_type": "code",
   "execution_count": 52,
   "metadata": {},
   "outputs": [
    {
     "name": "stdout",
     "output_type": "stream",
     "text": [
      "Coef:  [ 1.64532048e-02 -1.93357158e+00  8.29245367e-02  6.45237585e-02\n",
      " -5.26632485e-01  3.36167542e-03 -1.10706905e+02  5.54174023e-01\n",
      "  4.38373965e-01  2.46761028e-01]\n"
     ]
    }
   ],
   "source": [
    "# naming columns\n",
    "x = data[['fixed acidity', 'volatile acidity','citric acid','residual sugar','chlorides','free sulfur dioxide',\n",
    "        'density','pH','sulphates','alcohol']]\n",
    "y = data['quality']\n",
    "# train and test data split\n",
    "X_train, X_test, y_train, y_test = train_test_split(x, y, test_size=0.33, shuffle= True)\n",
    "# use multiple linear regression\n",
    "Reg = LinearRegression()\n",
    "Reg.fit(X_train, y_train)\n",
    "# find the coeffcients\n",
    "print('Coef: ', Reg.coef_)"
   ]
  },
  {
   "cell_type": "code",
   "execution_count": 7,
   "metadata": {},
   "outputs": [
    {
     "name": "stdout",
     "output_type": "stream",
     "text": [
      "                            OLS Regression Results                            \n",
      "==============================================================================\n",
      "Dep. Variable:                quality   R-squared:                       0.984\n",
      "Model:                            OLS   Adj. R-squared:                  0.984\n",
      "Method:                 Least Squares   F-statistic:                 2.975e+04\n",
      "Date:                Mon, 17 Jun 2019   Prob (F-statistic):               0.00\n",
      "Time:                        13:39:17   Log-Likelihood:                -5578.3\n",
      "No. Observations:                4898   AIC:                         1.118e+04\n",
      "Df Residuals:                    4888   BIC:                         1.124e+04\n",
      "Df Model:                          10                                         \n",
      "Covariance Type:            nonrobust                                         \n",
      "=======================================================================================\n",
      "                          coef    std err          t      P>|t|      [0.025      0.975]\n",
      "---------------------------------------------------------------------------------------\n",
      "fixed acidity          -0.0555      0.015     -3.716      0.000      -0.085      -0.026\n",
      "volatile acidity       -2.0185      0.111    -18.175      0.000      -2.236      -1.801\n",
      "citric acid            -0.0418      0.096     -0.435      0.664      -0.230       0.147\n",
      "residual sugar          0.0241      0.003      9.390      0.000       0.019       0.029\n",
      "chlorides              -0.9964      0.543     -1.836      0.066      -2.061       0.068\n",
      "free sulfur dioxide     0.0036      0.001      5.333      0.000       0.002       0.005\n",
      "density                 2.0389      0.353      5.768      0.000       1.346       2.732\n",
      "pH                      0.1426      0.083      1.720      0.085      -0.020       0.305\n",
      "sulphates               0.3869      0.097      4.007      0.000       0.198       0.576\n",
      "alcohol                 0.3734      0.011     35.152      0.000       0.353       0.394\n",
      "==============================================================================\n",
      "Omnibus:                      106.901   Durbin-Watson:                   1.626\n",
      "Prob(Omnibus):                  0.000   Jarque-Bera (JB):              229.235\n",
      "Skew:                           0.068   Prob(JB):                     1.67e-50\n",
      "Kurtosis:                       4.051   Cond. No.                     2.13e+03\n",
      "==============================================================================\n",
      "\n",
      "Warnings:\n",
      "[1] Standard Errors assume that the covariance matrix of the errors is correctly specified.\n",
      "[2] The condition number is large, 2.13e+03. This might indicate that there are\n",
      "strong multicollinearity or other numerical problems.\n"
     ]
    }
   ],
   "source": [
    "# cleaner linear model using least squares\n",
    "model = sm.OLS(y,x).fit()\n",
    "print_model = model.summary()\n",
    "print(print_model)"
   ]
  },
  {
   "cell_type": "code",
   "execution_count": null,
   "metadata": {},
   "outputs": [],
   "source": []
  }
 ],
 "metadata": {
  "kernelspec": {
   "display_name": "Python 3",
   "language": "python",
   "name": "python3"
  },
  "language_info": {
   "codemirror_mode": {
    "name": "ipython",
    "version": 3
   },
   "file_extension": ".py",
   "mimetype": "text/x-python",
   "name": "python",
   "nbconvert_exporter": "python",
   "pygments_lexer": "ipython3",
   "version": "3.7.3"
  }
 },
 "nbformat": 4,
 "nbformat_minor": 2
}
